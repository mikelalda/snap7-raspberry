{
 "cells": [
  {
   "cell_type": "markdown",
   "metadata": {},
   "source": [
    "# S7"
   ]
  },
  {
   "cell_type": "code",
   "execution_count": 1,
   "metadata": {},
   "outputs": [],
   "source": [
    "import snap7\n"
   ]
  },
  {
   "cell_type": "code",
   "execution_count": null,
   "metadata": {},
   "outputs": [],
   "source": [
    "client = snap7.client.Client()  # If the `snap7.dll` file is in the path location\n",
    "client.connect(\"127.0.0.1\", 0, 0, 1012)\n",
    "client.get_connected()\n",
    "salidas = client.ab_read(0,16)\n",
    "entradas = client.as_eb_read(0,8,1)\n",
    "if salidas[0] == False:\n",
    "    client.ab_write(0, False)"
   ]
  },
  {
   "cell_type": "code",
   "execution_count": null,
   "metadata": {},
   "outputs": [],
   "source": [
    "client.plc_stop()"
   ]
  },
  {
   "cell_type": "code",
   "execution_count": null,
   "metadata": {},
   "outputs": [],
   "source": [
    "client.plc_cold_start() \n",
    "client.plc_hot_start"
   ]
  },
  {
   "cell_type": "markdown",
   "metadata": {},
   "source": [
    "# Telegram"
   ]
  },
  {
   "cell_type": "code",
   "execution_count": 1,
   "metadata": {},
   "outputs": [
    {
     "data": {
      "text/plain": [
       "<queue.Queue at 0x1830f8a86d0>"
      ]
     },
     "execution_count": 1,
     "metadata": {},
     "output_type": "execute_result"
    }
   ],
   "source": [
    "from telegram.ext.updater import Updater\n",
    "from telegram.update import Update\n",
    "from telegram.ext.callbackcontext import CallbackContext\n",
    "from telegram.ext.commandhandler import CommandHandler\n",
    "from telegram.ext.messagehandler import MessageHandler\n",
    "from telegram.ext.filters import Filters\n",
    "from telegram import InlineKeyboardMarkup, InlineKeyboardButton, bot\n",
    "  \n",
    "updater = Updater(\"2115883750:AAGqskwSwvRD8iQlFA8vn9rUKG7DY8qM-jg\",\n",
    "                  use_context=True)\n",
    "\n",
    "\n",
    "# Hasi\n",
    "def start(update: Update, context: CallbackContext):\n",
    "    update.message.reply_text(\"Kaixo, idatzi /laguntza aukerak ikusteko.\")\n",
    "  \n",
    "def laguntza(update: Update, context: CallbackContext):\n",
    "    update.message.reply_text(\"\"\"Available Commands :-\n",
    "    /youtube - To get the youtube URL\n",
    "    /linkedin - To get the LinkedIn profile URL\n",
    "    /gmail - To get gmail URL\n",
    "    /geeks - To get the GeeksforGeeks URL\"\"\")\n",
    "  \n",
    "  \n",
    "def motorra_piztu(update: Update, context: CallbackContext):\n",
    "    update.message.reply_text(\"Motorra piztu da\")\n",
    "  \n",
    "  \n",
    "def motorra_itzali(update: Update, context: CallbackContext):\n",
    "    update.message.reply_text(\"Motorra itzali da\")\n",
    "  \n",
    "  \n",
    "def PLC_stop(update: Update, context: CallbackContext):\n",
    "    update.message.reply_text(\"PLCa gelditu da\")\n",
    "  \n",
    "  \n",
    "def PLC_run(update: Update, context: CallbackContext):\n",
    "    update.message.reply_text(\"PLCa martxan jarri da\")\n",
    "  \n",
    "  \n",
    "def unknown(update: Update, context: CallbackContext):\n",
    "    update.message.reply_text(\n",
    "        \"Sorry '%s' is not a valid command\" % update.message.text)\n",
    "  \n",
    "  \n",
    "def unknown_text(update: Update, context: CallbackContext):\n",
    "    update.message.reply_text(\n",
    "        \"Sorry I can't recognize you , you said '%s'\" % update.message.text)\n",
    "  \n",
    "  \n",
    "updater.dispatcher.add_handler(CommandHandler('start', start))\n",
    "updater.dispatcher.add_handler(CommandHandler('youtube', motorra_piztu))\n",
    "updater.dispatcher.add_handler(CommandHandler('laguntza', laguntza))\n",
    "updater.dispatcher.add_handler(CommandHandler('linkedin', motorra_itzali))\n",
    "updater.dispatcher.add_handler(CommandHandler('gmail', PLC_stop))\n",
    "updater.dispatcher.add_handler(CommandHandler('geeks', PLC_run))\n",
    "updater.dispatcher.add_handler(MessageHandler(Filters.text, unknown))\n",
    "updater.dispatcher.add_handler(MessageHandler(\n",
    "    Filters.command, unknown_text))  # Filters out unknown commands\n",
    "  \n",
    "# Filters out unknown messages.\n",
    "updater.dispatcher.add_handler(MessageHandler(Filters.text, unknown_text))\n",
    "  \n",
    "updater.start_polling()"
   ]
  },
  {
   "cell_type": "code",
   "execution_count": 1,
   "metadata": {},
   "outputs": [
    {
     "data": {
      "text/plain": [
       "<queue.Queue at 0x1a890e37df0>"
      ]
     },
     "execution_count": 1,
     "metadata": {},
     "output_type": "execute_result"
    }
   ],
   "source": [
    "from telegram.ext.updater import Updater\n",
    "from telegram.update import Update\n",
    "from telegram.ext.callbackcontext import CallbackContext\n",
    "from telegram.ext.commandhandler import CommandHandler\n",
    "from telegram.ext.messagehandler import MessageHandler\n",
    "from telegram.ext.filters import Filters\n",
    "from telegram import InlineKeyboardMarkup, InlineKeyboardButton, bot\n",
    "  \n",
    "updater = Updater(\"2115883750:AAGqskwSwvRD8iQlFA8vn9rUKG7DY8qM-jg\",\n",
    "                  use_context=True)\n",
    "\n",
    "# Teklatua\n",
    "def build_menu(buttons,n_cols,header_buttons=None,footer_buttons=None):\n",
    "  menu = [buttons[i:i + n_cols] for i in range(0, len(buttons), n_cols)]\n",
    "  if header_buttons:\n",
    "    menu.insert(0, header_buttons)\n",
    "  if footer_buttons:\n",
    "    menu.append(footer_buttons)\n",
    "  return menu\n",
    "\n",
    "def buttons(update,context):\n",
    "  list_of_cities = ['motorra_piztu','motorra_itzali','PLC_stop', 'PLC_run']\n",
    "  button_list = []\n",
    "  for each in list_of_cities:\n",
    "     button_list.append(InlineKeyboardButton(each, callback_data = each))\n",
    "  reply_markup=InlineKeyboardMarkup(build_menu(button_list,n_cols=2)) #n_cols = 1 is for single column and mutliple rows\n",
    "  bot.send_message(chat_id=update.message.chat_id, text='Aukeratu PLCak egitea nahi duzuna',reply_markup=reply_markup)\n",
    "\n",
    "\n",
    "# Hasi\n",
    "def start(update: Update, context: CallbackContext):\n",
    "    # update.message.reply_text(\"Kaixo, idatzi /laguntza aukerak ikusteko.\")\n",
    "    update.message.reply_text(\"Replying to text\", reply_markup=buttons)\n",
    "  \n",
    "def laguntza(update: Update, context: CallbackContext):\n",
    "    update.message.reply_text(\"\"\"Available Commands :-\n",
    "    /youtube - To get the youtube URL\n",
    "    /linkedin - To get the LinkedIn profile URL\n",
    "    /gmail - To get gmail URL\n",
    "    /geeks - To get the GeeksforGeeks URL\"\"\")\n",
    "  \n",
    "  \n",
    "def motorra_piztu(update: Update, context: CallbackContext):\n",
    "    update.message.reply_text(\"Motorra piztu da\")\n",
    "  \n",
    "  \n",
    "def motorra_itzali(update: Update, context: CallbackContext):\n",
    "    update.message.reply_text(\"Motorra itzali da\")\n",
    "  \n",
    "  \n",
    "def PLC_stop(update: Update, context: CallbackContext):\n",
    "    update.message.reply_text(\"PLCa gelditu da\")\n",
    "  \n",
    "  \n",
    "def PLC_run(update: Update, context: CallbackContext):\n",
    "    update.message.reply_text(\"PLCa martxan jarri da\")\n",
    "  \n",
    "  \n",
    "def unknown(update: Update, context: CallbackContext):\n",
    "    update.message.reply_text(\n",
    "        \"Sorry '%s' is not a valid command\" % update.message.text)\n",
    "  \n",
    "  \n",
    "def unknown_text(update: Update, context: CallbackContext):\n",
    "    update.message.reply_text(\n",
    "        \"Sorry I can't recognize you , you said '%s'\" % update.message.text)\n",
    "  \n",
    "  \n",
    "updater.dispatcher.add_handler(CommandHandler('start', start))\n",
    "updater.dispatcher.add_handler(CommandHandler('laguntza', laguntza))\n",
    "updater.dispatcher.add_handler(CommandHandler('youtube', motorra_piztu))\n",
    "updater.dispatcher.add_handler(CommandHandler('help', help))\n",
    "updater.dispatcher.add_handler(CommandHandler('linkedin', motorra_itzali))\n",
    "updater.dispatcher.add_handler(CommandHandler('gmail', PLC_stop))\n",
    "updater.dispatcher.add_handler(CommandHandler('geeks', PLC_run))\n",
    "updater.dispatcher.add_handler(CommandHandler('botoiak', buttons))\n",
    "updater.dispatcher.add_handler(MessageHandler(Filters.text, unknown))\n",
    "updater.dispatcher.add_handler(MessageHandler(Filters.command, unknown_text))  # Filters out unknown commands\n",
    "  \n",
    "# Filters out unknown messages.\n",
    "updater.dispatcher.add_handler(MessageHandler(Filters.text, unknown_text))\n",
    "  \n",
    "updater.start_polling()"
   ]
  }
 ],
 "metadata": {
  "interpreter": {
   "hash": "22070463a88430d6ba5ebe9385f146f10fe1147480845f790562fd7ad49a4e6f"
  },
  "kernelspec": {
   "display_name": "Python 3.8.12 64-bit ('Siemens_connect': conda)",
   "language": "python",
   "name": "python3"
  },
  "language_info": {
   "codemirror_mode": {
    "name": "ipython",
    "version": 3
   },
   "file_extension": ".py",
   "mimetype": "text/x-python",
   "name": "python",
   "nbconvert_exporter": "python",
   "pygments_lexer": "ipython3",
   "version": "3.8.12"
  },
  "orig_nbformat": 4
 },
 "nbformat": 4,
 "nbformat_minor": 2
}
