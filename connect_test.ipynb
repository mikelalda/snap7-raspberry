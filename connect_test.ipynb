{
 "cells": [
  {
   "cell_type": "code",
   "execution_count": 1,
   "metadata": {},
   "outputs": [],
   "source": [
    "import snap7"
   ]
  },
  {
   "cell_type": "code",
   "execution_count": null,
   "metadata": {},
   "outputs": [],
   "source": [
    "client = snap7.client.Client()  # If the `snap7.dll` file is in the path location\n",
    "client.connect(\"127.0.0.1\", 0, 0, 1012)\n",
    "client.get_connected()\n",
    "salidas = client.ab_read(0,16)\n",
    "entradas = client.as_eb_read(0,8,1)\n",
    "if salidas[0] == False:\n",
    "    client.ab_write(0, False)"
   ]
  }
 ],
 "metadata": {
  "interpreter": {
   "hash": "22070463a88430d6ba5ebe9385f146f10fe1147480845f790562fd7ad49a4e6f"
  },
  "kernelspec": {
   "display_name": "Python 3.8.12 64-bit ('Siemens_connect': conda)",
   "language": "python",
   "name": "python3"
  },
  "language_info": {
   "codemirror_mode": {
    "name": "ipython",
    "version": 3
   },
   "file_extension": ".py",
   "mimetype": "text/x-python",
   "name": "python",
   "nbconvert_exporter": "python",
   "pygments_lexer": "ipython3",
   "version": "3.8.12"
  },
  "orig_nbformat": 4
 },
 "nbformat": 4,
 "nbformat_minor": 2
}
