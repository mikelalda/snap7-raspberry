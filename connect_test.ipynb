{
 "cells": [
  {
   "cell_type": "markdown",
   "metadata": {},
   "source": [
    "# S7"
   ]
  },
  {
   "cell_type": "code",
   "execution_count": 1,
   "metadata": {},
   "outputs": [],
   "source": [
    "import snap7\n"
   ]
  },
  {
   "cell_type": "code",
   "execution_count": null,
   "metadata": {},
   "outputs": [],
   "source": [
    "client = snap7.client.Client()  # If the `snap7.dll` file is in the path location\n",
    "client.connect(\"127.0.0.1\", 0, 0, 1012)\n",
    "client.get_connected()\n",
    "salidas = client.ab_read(0,16)\n",
    "entradas = client.as_eb_read(0,8,1)\n",
    "if salidas[0] == False:\n",
    "    client.ab_write(0, False)"
   ]
  },
  {
   "cell_type": "code",
   "execution_count": null,
   "metadata": {},
   "outputs": [],
   "source": [
    "client.plc_stop()"
   ]
  },
  {
   "cell_type": "code",
   "execution_count": null,
   "metadata": {},
   "outputs": [],
   "source": [
    "client.plc_cold_start() \n",
    "client.plc_hot_start"
   ]
  },
  {
   "cell_type": "markdown",
   "metadata": {},
   "source": [
    "# Telegram"
   ]
  },
  {
   "cell_type": "code",
   "execution_count": 1,
   "metadata": {},
   "outputs": [
    {
     "data": {
      "text/plain": [
       "<queue.Queue at 0x252204c6910>"
      ]
     },
     "execution_count": 1,
     "metadata": {},
     "output_type": "execute_result"
    }
   ],
   "source": [
    "from telegram import *\n",
    "from telegram.ext import * \n",
    "# from requests import *\n",
    "\n",
    "updater = Updater(token=\"2115883750:AAGqskwSwvRD8iQlFA8vn9rUKG7DY8qM-jg\")\n",
    "dispatcher = updater.dispatcher\n",
    "\n",
    "text_laguntza = \"/laguntza\"\n",
    "text_motorra_piztu = \"/motorra_piztu\"\n",
    "text_motorra_itzali = \"/motorra_itzali\"\n",
    "text_PLC_gelditu = \"/PLC_stop\"\n",
    "text_PLC_martxa = \"/PLC_run\"\n",
    "text_konektatu = \"/konektatu\"\n",
    "\n",
    "likes = 0\n",
    "dislikes = 0\n",
    "\n",
    "def startCommand(update: Update, context: CallbackContext):\n",
    "    buttons = [[KeyboardButton(text_laguntza),KeyboardButton(text_konektatu)],[KeyboardButton(text_motorra_piztu),KeyboardButton(text_motorra_itzali)], [KeyboardButton(text_PLC_gelditu),KeyboardButton(text_PLC_martxa)]]\n",
    "    context.bot.send_message(chat_id=update.effective_chat.id, text=\"Welcome to my bot!\", reply_markup=ReplyKeyboardMarkup(buttons))\n",
    "\n",
    "\n",
    "def laguntza(update: Update, context: CallbackContext):\n",
    "    update.message.reply_text(\"\"\"Botoietako aukerak :-\n",
    "    /konektatu - PLCra konektatu\n",
    "    /motorra_piztu - motorra martxan jartzeko\n",
    "    /motorra_itzali - motorra itzaltzeko\n",
    "    /PLC_stop - PLCa stop egoeran jartzeko\n",
    "    /PLC_run - PLCa run egoerara pasatzkeo\"\"\")\n",
    "\n",
    "def connect(update: Update, context: CallbackContext):\n",
    "\n",
    "    update.message.reply_text(\"PLCra konektatuta\")\n",
    "  \n",
    "def motorra_piztu(update: Update, context: CallbackContext):\n",
    "    update.message.reply_text(\"Motorra piztu da\")\n",
    "  \n",
    "  \n",
    "def motorra_itzali(update: Update, context: CallbackContext):\n",
    "    update.message.reply_text(\"Motorra itzali da\")\n",
    "  \n",
    "  \n",
    "def PLC_stop(update: Update, context: CallbackContext):\n",
    "    update.message.reply_text(\"PLCa gelditu da\")\n",
    "  \n",
    "  \n",
    "def PLC_run(update: Update, context: CallbackContext):\n",
    "    update.message.reply_text(\"PLCa martxan jarri da\")\n",
    "  \n",
    "  \n",
    "def unknown(update: Update, context: CallbackContext):\n",
    "    update.message.reply_text(\n",
    "        \"Sorry '%s' is not a valid command\" % update.message.text)\n",
    "  \n",
    "  \n",
    "def unknown_text(update: Update, context: CallbackContext):\n",
    "    update.message.reply_text(\n",
    "        \"Sorry I can't recognize you , you said '%s'\" % update.message.text)\n",
    "\n",
    "\n",
    "dispatcher.add_handler(CommandHandler(\"start\", startCommand))\n",
    "updater.dispatcher.add_handler(CommandHandler('konektatu', connect))\n",
    "updater.dispatcher.add_handler(CommandHandler('motorra_piztu', motorra_piztu))\n",
    "updater.dispatcher.add_handler(CommandHandler('laguntza', laguntza))\n",
    "updater.dispatcher.add_handler(CommandHandler('motorra_itzali', motorra_itzali))\n",
    "updater.dispatcher.add_handler(CommandHandler('PLC_stop', PLC_stop))\n",
    "updater.dispatcher.add_handler(CommandHandler('PLC_run', PLC_run))\n",
    "updater.dispatcher.add_handler(MessageHandler(Filters.text, unknown))\n",
    "updater.dispatcher.add_handler(MessageHandler(Filters.command, unknown_text))  # Filters out unknown commands\n",
    "  \n",
    "# Filters out unknown messages.\n",
    "updater.dispatcher.add_handler(MessageHandler(Filters.text, unknown_text))\n",
    "\n",
    "updater.start_polling()"
   ]
  }
 ],
 "metadata": {
  "interpreter": {
   "hash": "22070463a88430d6ba5ebe9385f146f10fe1147480845f790562fd7ad49a4e6f"
  },
  "kernelspec": {
   "display_name": "Python 3.8.12 64-bit ('Siemens_connect': conda)",
   "language": "python",
   "name": "python3"
  },
  "language_info": {
   "codemirror_mode": {
    "name": "ipython",
    "version": 3
   },
   "file_extension": ".py",
   "mimetype": "text/x-python",
   "name": "python",
   "nbconvert_exporter": "python",
   "pygments_lexer": "ipython3",
   "version": "3.8.12"
  },
  "orig_nbformat": 4
 },
 "nbformat": 4,
 "nbformat_minor": 2
}
