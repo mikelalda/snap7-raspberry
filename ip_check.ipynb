{
 "cells": [
  {
   "cell_type": "markdown",
   "metadata": {},
   "source": [
    "# IP check"
   ]
  },
  {
   "cell_type": "code",
   "execution_count": null,
   "metadata": {},
   "outputs": [],
   "source": [
    "import sh    \n",
    "  \n",
    "  \n",
    "  \n",
    "for num in range(255):  \n",
    "    ip = \"192.168.0.\"+str(num)  \n",
    "  \n",
    "    try:  \n",
    "        sh.ping(ip, \"-c 1\",_out=\"/dev/null\")  \n",
    "        print(\"PING \",ip , \"OK\")  \n",
    "    except sh.ErrorReturnCode_1:  \n",
    "        print(\"PING \", ip, \"FAILED\")   "
   ]
  }
 ],
 "metadata": {
  "interpreter": {
   "hash": "22070463a88430d6ba5ebe9385f146f10fe1147480845f790562fd7ad49a4e6f"
  },
  "kernelspec": {
   "display_name": "Python 3.8.12 64-bit ('Siemens_connect': conda)",
   "language": "python",
   "name": "python3"
  },
  "language_info": {
   "codemirror_mode": {
    "name": "ipython",
    "version": 3
   },
   "file_extension": ".py",
   "mimetype": "text/x-python",
   "name": "python",
   "nbconvert_exporter": "python",
   "pygments_lexer": "ipython3",
   "version": "3.8.12"
  },
  "orig_nbformat": 4
 },
 "nbformat": 4,
 "nbformat_minor": 2
}
